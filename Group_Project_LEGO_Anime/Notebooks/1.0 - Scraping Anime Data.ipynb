{
 "cells": [
  {
   "cell_type": "markdown",
   "metadata": {},
   "source": [
    "# Sanime ETL - Scraping\n",
    "## Scrape data from MyAnimeList website\n",
    "Be careful to sign up at [MyAnimeList](https://myanimelist.net) and submit your request for API access to claim your client_id and fill config.json file"
   ]
  },
  {
   "cell_type": "code",
   "execution_count": 19,
   "metadata": {},
   "outputs": [],
   "source": [
    "config_file = '../config.json'"
   ]
  },
  {
   "cell_type": "markdown",
   "metadata": {},
   "source": [
    "importing and read config files"
   ]
  },
  {
   "cell_type": "code",
   "execution_count": 20,
   "metadata": {},
   "outputs": [],
   "source": [
    "import os\n",
    "import json\n",
    "import requests\n",
    "import pandas as pd\n",
    "import pymongo\n",
    "import bson.json_util as json_util\n",
    "\n",
    "with open(config_file) as f:\n",
    "    config = json.load(f)\n",
    "    client_id = config['MyAnimeList']['client_id']\n",
    "    mongo_cred = config['MongoDB']"
   ]
  },
  {
   "cell_type": "markdown",
   "metadata": {},
   "source": [
    "create a function to download anime ids through requests module"
   ]
  },
  {
   "cell_type": "code",
   "execution_count": 26,
   "metadata": {},
   "outputs": [],
   "source": [
    "def get_all_anime_ids(client_id:str ) -> list:\n",
    "    \"\"\"This function returns a list of all anime ids from MyAnimeList site API\n",
    "    Args:\n",
    "        client_id (str): The client id for the MyAnimeList API\n",
    "    Returns:\n",
    "        list: A list of all anime ids\n",
    "    \"\"\"\n",
    "    url = 'https://api.myanimelist.net/v2/anime/ranking'\n",
    "    headers = {\n",
    "        'X-MAL-CLIENT-ID': client_id\n",
    "    }\n",
    "    anime_ids = []\n",
    "    limit = 100\n",
    "    offset = 0\n",
    "    while True:\n",
    "        params = {\n",
    "            'limit': limit,\n",
    "            'offset': offset\n",
    "        }\n",
    "        response = requests.get(url, headers=headers, params=params)\n",
    "        if response and response.status_code == 200:\n",
    "            data = response.json()\n",
    "            anime_ids.extend(data['data'])\n",
    "            if 'next' not in data['paging']:\n",
    "                break\n",
    "            offset += limit\n",
    "        else:\n",
    "            print(f\"Errore {response.status_code}: {response.text}\")\n",
    "            break\n",
    "\n",
    "    return anime_ids"
   ]
  },
  {
   "cell_type": "markdown",
   "metadata": {},
   "source": [
    "download anime ids and save/backup them into a csv file"
   ]
  },
  {
   "cell_type": "code",
   "execution_count": null,
   "metadata": {},
   "outputs": [],
   "source": [
    "anime_ids_list = get_all_anime_ids(client_id)\n",
    "df = pd.DataFrame(anime_ids_list, columns=['anime_id'])\n",
    "df.to_csv('../data/src/anime_list.csv', index=False)"
   ]
  },
  {
   "cell_type": "code",
   "execution_count": 35,
   "metadata": {},
   "outputs": [],
   "source": [
    "anime_ids_list = [1, 5]"
   ]
  },
  {
   "cell_type": "markdown",
   "metadata": {},
   "source": [
    "function to download anime details"
   ]
  },
  {
   "cell_type": "code",
   "execution_count": 39,
   "metadata": {},
   "outputs": [],
   "source": [
    "#funzione per ottenere i dettagli di un anime\n",
    "def get_anime_details(anime_id:str, client_id:str) -> json:\n",
    "    \"\"\"This function returns the details of an anime from MyAnimeList site API\n",
    "    Args:\n",
    "        anime_id (str): The anime id\n",
    "        client_id (str): The client id for the MyAnimeList API\n",
    "    Returns:\n",
    "        json: The details of the anime\n",
    "    \"\"\"\n",
    "    url = f'https://api.myanimelist.net/v2/anime/{anime_id}?fields=id,title,main_picture,alternative_titles,start_date,end_date,synopsis,mean,rank,popularity,num_list_users,num_scoring_users,nsfw,created_at,updated_at,media_type,status,genres,my_list_status,num_episodes,start_season,broadcast,source,average_episode_duration,rating,pictures,background,related_anime,related_manga,recommendations,studios,statistics'\n",
    "    headers = {\n",
    "        'X-MAL-CLIENT-ID': client_id\n",
    "    }\n",
    "    response = requests.get(url, headers=headers, timeout=5)\n",
    "    if response and response.status_code == 200:\n",
    "        return response.json()\n",
    "    else:\n",
    "        print(f\"Errore {response.status_code}: {response.text}\")\n",
    "        return None\n"
   ]
  },
  {
   "cell_type": "markdown",
   "metadata": {},
   "source": [
    "download anime details"
   ]
  },
  {
   "cell_type": "code",
   "execution_count": 46,
   "metadata": {},
   "outputs": [],
   "source": [
    "anime_details = []\n",
    "for anime_id in anime_ids_list:\n",
    "    anime_detail = get_anime_details(str(anime_id), client_id)\n",
    "    if anime_detail:\n",
    "        anime_details.append(anime_detail)"
   ]
  },
  {
   "cell_type": "markdown",
   "metadata": {},
   "source": [
    "create a MongoDB connection to load data into MyAnimeList db"
   ]
  },
  {
   "cell_type": "code",
   "execution_count": 48,
   "metadata": {},
   "outputs": [],
   "source": [
    "connection_string = f\"mongodb+srv://{mongo_cred['username']}:{mongo_cred['password']}@{mongo_cred['database']}.{mongo_cred['cluster']}.mongodb.net/\"\n",
    "client = pymongo.MongoClient(connection_string)\n",
    "db = client['MyAnimeList']"
   ]
  },
  {
   "cell_type": "markdown",
   "metadata": {},
   "source": [
    "save data into src_anime_details collection"
   ]
  },
  {
   "cell_type": "code",
   "execution_count": null,
   "metadata": {},
   "outputs": [],
   "source": [
    "db.src_anime_details.insert_many(anime_details)"
   ]
  },
  {
   "cell_type": "markdown",
   "metadata": {},
   "source": [
    "save source data locally (data/scr/anime_details folder) as [anime_id].json"
   ]
  },
  {
   "cell_type": "code",
   "execution_count": null,
   "metadata": {},
   "outputs": [],
   "source": [
    "anime_details_folder = '../data/src/anime_details/'\n",
    "\n",
    "if not os.path.exists(anime_details_folder):\n",
    "    os.makedirs(anime_details_folder)\n",
    "\n",
    "for _, anime in enumerate(anime_details):\n",
    "    file_name = os.path.join(anime_details_folder, f'anime_{anime[\"id\"]}.json')\n",
    "    with open(file_name, 'w') as f:\n",
    "        print(json_util.dumps(anime, indent = 4), file=f)"
   ]
  }
 ],
 "metadata": {
  "kernelspec": {
   "display_name": "ml",
   "language": "python",
   "name": "python3"
  },
  "language_info": {
   "codemirror_mode": {
    "name": "ipython",
    "version": 3
   },
   "file_extension": ".py",
   "mimetype": "text/x-python",
   "name": "python",
   "nbconvert_exporter": "python",
   "pygments_lexer": "ipython3",
   "version": "3.11.5"
  }
 },
 "nbformat": 4,
 "nbformat_minor": 2
}
