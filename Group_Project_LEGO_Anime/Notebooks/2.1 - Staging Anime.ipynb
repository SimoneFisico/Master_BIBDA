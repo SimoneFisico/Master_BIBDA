{
 "cells": [
  {
   "cell_type": "markdown",
   "metadata": {},
   "source": [
    "## Manage json files to extract relevant feature of Anime/Animated Movies"
   ]
  },
  {
   "cell_type": "code",
   "execution_count": 1,
   "metadata": {},
   "outputs": [],
   "source": [
    "config_file = '../config.json'"
   ]
  },
  {
   "cell_type": "markdown",
   "metadata": {},
   "source": [
    "importing and read config files"
   ]
  },
  {
   "cell_type": "code",
   "execution_count": 2,
   "metadata": {},
   "outputs": [],
   "source": [
    "import os\n",
    "import json\n",
    "import pymongo\n",
    "import bson.json_util as json_util\n",
    "\n",
    "with open(config_file) as f:\n",
    "    config = json.load(f)\n",
    "    client_id = config['MyAnimeList']['client_id']\n",
    "    mongo_cred = config['MongoDB']"
   ]
  },
  {
   "cell_type": "markdown",
   "metadata": {},
   "source": [
    "create a MongoDB connection to read data from MyAnimeList db, src_anime_details collection"
   ]
  },
  {
   "cell_type": "code",
   "execution_count": 3,
   "metadata": {},
   "outputs": [],
   "source": [
    "connection_string = f\"mongodb+srv://{mongo_cred['username']}:{mongo_cred['password']}@{mongo_cred['database']}.{mongo_cred['cluster']}.mongodb.net/\"\n",
    "client = pymongo.MongoClient(connection_string)\n",
    "db = client['MyAnimeList']"
   ]
  },
  {
   "cell_type": "markdown",
   "metadata": {},
   "source": [
    "extract relevant feature from each anime"
   ]
  },
  {
   "cell_type": "code",
   "execution_count": null,
   "metadata": {},
   "outputs": [],
   "source": [
    "anime_details = []\n",
    "anime_info = {}\n",
    "count_eliminated = 0\n",
    "\n",
    "src_jsons = db.src_anime_details.find({})\n",
    "for anime_detail in src_jsons:\n",
    "    if 'mean' in anime_detail.keys() and 'title' in anime_detail.keys() and anime_detail['title']:\n",
    "                anime_info['_id'] = anime_detail['id']\n",
    "                anime_info['title'] = anime_detail['title']\n",
    "                if 'alternative_titles' in anime_detail.keys():\n",
    "                    if 'en' in anime_detail['alternative_titles'].keys() and anime_detail['alternative_titles']['en'] != '':\n",
    "                        anime_info['title'] = anime_detail['alternative_titles']['en']\n",
    "                anime_info['start_date'] = anime_detail.get('start_date', \"1900-01-01\")\n",
    "                anime_info['end_date'] = anime_detail.get('end_date', \"1900-01-01\")\n",
    "                anime_info['vote'] = anime_detail['mean']\n",
    "                anime_info['rank'] = anime_detail.get('rank', -1)\n",
    "                anime_info['num_scoring_users'] = anime_detail['num_scoring_users']\n",
    "                anime_info['updated_at'] = anime_detail['updated_at']\n",
    "                anime_info['media_type'] = anime_detail['media_type']\n",
    "                anime_info['status'] = anime_detail['status']\n",
    "                anime_info['synopsis'] = anime_detail['synopsis']\n",
    "                anime_info['genres'] = []\n",
    "                if 'genres' in anime_detail.keys():\n",
    "                    for genre in anime_detail['genres']:\n",
    "                        anime_info['genres'].append(genre['name'])\n",
    "                anime_info['num_episode'] = anime_detail['num_episodes']\n",
    "                anime_info['source'] = anime_detail.get('source', None)\n",
    "                anime_info['audience_rating'] = anime_detail.get('rating', \"ur\")\n",
    "                anime_info['studios'] = []\n",
    "                if 'studios' in anime_detail.keys():\n",
    "                    for studio in anime_detail['studios']:\n",
    "                        anime_info['studios'].append(studio['name'])\n",
    "                anime_info['watching'] = anime_detail['statistics']['status']['watching']\n",
    "                anime_info['completed'] = anime_detail['statistics']['status']['completed']\n",
    "                anime_info['on_hold'] = anime_detail['statistics']['status']['on_hold']\n",
    "                anime_info['dropped'] = anime_detail['statistics']['status']['dropped']\n",
    "                anime_info['plan_to_watch'] = anime_detail['statistics']['status']['plan_to_watch']\n",
    "                anime_details.append(anime_info)\n",
    "    else:\n",
    "        count_eliminated += 1\n",
    "        continue"
   ]
  },
  {
   "cell_type": "markdown",
   "metadata": {},
   "source": [
    "save staging data on MongoDB, collection stg_anime_details"
   ]
  },
  {
   "cell_type": "code",
   "execution_count": null,
   "metadata": {},
   "outputs": [],
   "source": [
    "db.stg_anime_details.insert_many(anime_details)"
   ]
  },
  {
   "cell_type": "markdown",
   "metadata": {},
   "source": [
    "save staging data locally (data/stg/anime_details folder) as [anime_id].json"
   ]
  },
  {
   "cell_type": "code",
   "execution_count": null,
   "metadata": {},
   "outputs": [],
   "source": [
    "anime_details_folder = '../data/stg/anime_details/'\n",
    "\n",
    "if not os.path.exists(anime_details_folder):\n",
    "    os.makedirs(anime_details_folder)\n",
    "\n",
    "for _, anime in enumerate(anime_details):\n",
    "    file_name = os.path.join(anime_details_folder, f'anime_{anime[\"id\"]}.json')\n",
    "    with open(file_name, 'w') as f:\n",
    "        print(json_util.dumps(anime, indent = 4), file=f)"
   ]
  }
 ],
 "metadata": {
  "kernelspec": {
   "display_name": "ml",
   "language": "python",
   "name": "python3"
  },
  "language_info": {
   "codemirror_mode": {
    "name": "ipython",
    "version": 3
   },
   "file_extension": ".py",
   "mimetype": "text/x-python",
   "name": "python",
   "nbconvert_exporter": "python",
   "pygments_lexer": "ipython3",
   "version": "3.11.5"
  }
 },
 "nbformat": 4,
 "nbformat_minor": 2
}
